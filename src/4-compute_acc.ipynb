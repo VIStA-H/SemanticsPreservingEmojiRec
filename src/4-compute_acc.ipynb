{
 "cells": [
  {
   "cell_type": "markdown",
   "id": "c67325bd-d8d4-4e35-9b83-3b40b9d85ffb",
   "metadata": {},
   "source": [
    "# compute accuracy in 5 downstream tasks\n",
    "\n",
    "after getting classification in 5 tasks, compute the accuracy between labels and logits.\n"
   ]
  },
  {
   "cell_type": "code",
   "execution_count": 1,
   "id": "3c279431-3901-49d1-b7ca-a26141ba0437",
   "metadata": {},
   "outputs": [],
   "source": [
    "import pandas as pd\n",
    "import re\n",
    "\n",
    "import os\n",
    "from together import Together\n",
    "\n",
    "from openai import OpenAI\n",
    "import random\n",
    "from collections import Counter\n",
    "import time"
   ]
  },
  {
   "cell_type": "code",
   "execution_count": null,
   "id": "6d748232-67c6-425e-a26a-2d733602c8cb",
   "metadata": {},
   "outputs": [],
   "source": []
  },
  {
   "cell_type": "markdown",
   "id": "276939af-b86b-4521-b171-3cc437371cc0",
   "metadata": {},
   "source": [
    "## acc of each category in each downstream task"
   ]
  },
  {
   "cell_type": "code",
   "execution_count": 93,
   "id": "eded018c-6d83-4cdb-999c-39f37f8c1815",
   "metadata": {},
   "outputs": [
    {
     "name": "stdout",
     "output_type": "stream",
     "text": [
      "qwen2-72b-instruct\n",
      "gpt-4o-mini\n"
     ]
    }
   ],
   "source": [
    "# model_name='gpt-4o'\n",
    "# model_name='llama3.1-70b-instruct'\n",
    "# model_name = 'llama3.1-8b-instruct'\n",
    "# model_name = 'gemma2-9b-instruct'\n",
    "# model_name= 'mistral-7b-instruct'\n",
    "model_name = 'qwen2-72b-instruct'\n",
    "\n",
    "# model_name = 'sentence'\n",
    "# model_name = 'random_sentence'\n",
    "\n",
    "judge_model_name = \"gpt-4o-mini\"\n",
    "# judge_model_name = \"gpt-4o-turbo\"\n",
    "\n",
    "print(model_name)\n",
    "print(judge_model_name)"
   ]
  },
  {
   "cell_type": "code",
   "execution_count": 94,
   "id": "d19981e6-bdcb-4194-a009-baa3106a2b60",
   "metadata": {},
   "outputs": [
    {
     "name": "stdout",
     "output_type": "stream",
     "text": [
      "True\n",
      "prompt_aug_sentence_cls\n",
      "qwen2-72b-instruct\n"
     ]
    }
   ],
   "source": [
    "\n",
    "augmentation_method = 'prompt_aug_sentence_cls'\n",
    "# augmentation_method = 'conditional_recommend'\n",
    "# augmentation_method = 'fewshot'\n",
    "augmentation_bool=True\n",
    "print(augmentation_bool)\n",
    "print(augmentation_method)\n",
    "\n",
    "print(model_name)"
   ]
  },
  {
   "cell_type": "code",
   "execution_count": 97,
   "id": "82666d93-a931-4776-b954-8c0aee0681d4",
   "metadata": {},
   "outputs": [
    {
     "name": "stdout",
     "output_type": "stream",
     "text": [
      "./dataset_with_logits/qwen2-72b-instruct/prompt_aug_sentence_cls/stance/dataset_logits_qwen2-72b-instruct_prompt_aug_sentence_cls_stance_5039.csv\n"
     ]
    }
   ],
   "source": [
    "!ls ./dataset_with_logits/{model_name}/prompt_aug_sentence_cls/stance/dataset_logits_qwen2-72b-instruct_prompt_aug_sentence_cls_stance_5039.csv\n",
    "\n",
    "# !ls ./dataset_finalOutput/gpt-4o/dataset_finalOutput_gpt-4o_gpt-4o-mini_prompt_aug_sentence_cls_5039.csv\n"
   ]
  },
  {
   "cell_type": "code",
   "execution_count": 98,
   "id": "99a74f84-6b96-47a5-a641-5f71f158c022",
   "metadata": {},
   "outputs": [
    {
     "name": "stdout",
     "output_type": "stream",
     "text": [
      "./dataset_with_logits/qwen2-72b-instruct/prompt_aug_sentence_cls/stance/dataset_logits_qwen2-72b-instruct_prompt_aug_sentence_cls_stance_5039.csv\n",
      "<class 'pandas.core.frame.DataFrame'>\n",
      "RangeIndex: 5039 entries, 0 to 5038\n",
      "Data columns (total 38 columns):\n",
      " #   Column                                           Non-Null Count  Dtype \n",
      "---  ------                                           --------------  ----- \n",
      " 0   Unnamed: 0.1                                     5039 non-null   int64 \n",
      " 1   Unnamed: 0                                       5039 non-null   int64 \n",
      " 2   index                                            5039 non-null   int64 \n",
      " 3   user_id                                          5039 non-null   object\n",
      " 4   emoji_sentence                                   5039 non-null   object\n",
      " 5   char_count                                       5039 non-null   int64 \n",
      " 6   cluster                                          5039 non-null   int64 \n",
      " 7   sentence                                         5039 non-null   object\n",
      " 8   gender_labels                                    5039 non-null   object\n",
      " 9   sentiment_labels                                 5039 non-null   object\n",
      " 10  emotion_labels                                   5039 non-null   object\n",
      " 11  age_labels                                       5039 non-null   object\n",
      " 12  stance_labels                                    5039 non-null   object\n",
      " 13  is_duplicate                                     5039 non-null   bool  \n",
      " 14  predicted_emojis                                 5037 non-null   object\n",
      " 15  predicted_sentence                               5037 non-null   object\n",
      " 16  predicted_pure_emojis                            5014 non-null   object\n",
      " 17  predicted_pure_sentence                          5039 non-null   object\n",
      " 18  gender_logits                                    5039 non-null   object\n",
      " 19  sentiment_logits                                 5039 non-null   object\n",
      " 20  emotion_logits                                   5039 non-null   object\n",
      " 21  age_logits                                       5039 non-null   object\n",
      " 22  stance_logits                                    5039 non-null   object\n",
      " 23  real_emojis                                      5026 non-null   object\n",
      " 24  gender_labels_using_sentence                     5039 non-null   object\n",
      " 25  sentiment_labels_using_sentence                  5039 non-null   object\n",
      " 26  emotion_labels_using_sentence                    5039 non-null   object\n",
      " 27  age_labels_using_sentence                        5039 non-null   object\n",
      " 28  stance_labels_using_sentence                     5039 non-null   object\n",
      " 29  predicted_emojis_prompt_aug_sentence_cls         4999 non-null   object\n",
      " 30  predicted_sentence_prompt_aug_sentence_cls       4999 non-null   object\n",
      " 31  predicted_pure_emojis_prompt_aug_sentence_cls    4952 non-null   object\n",
      " 32  predicted_pure_sentence_prompt_aug_sentence_cls  5039 non-null   object\n",
      " 33  gender_logits_prompt_aug_sentence_cls            5039 non-null   object\n",
      " 34  sentiment_logits_prompt_aug_sentence_cls         5039 non-null   object\n",
      " 35  emotion_logits_prompt_aug_sentence_cls           5039 non-null   object\n",
      " 36  age_logits_prompt_aug_sentence_cls               5039 non-null   object\n",
      " 37  stance_logits_prompt_aug_sentence_cls            5039 non-null   object\n",
      "dtypes: bool(1), int64(5), object(32)\n",
      "memory usage: 1.4+ MB\n"
     ]
    }
   ],
   "source": [
    "\n",
    "\n",
    "if model_name == 'sentence' or model_name == 'random_sentence': \n",
    "    dataset_path = f'./dataset_with_logits/{model_name}/stance/dataset_labels_using_{model_name}_stance_5039.csv'\n",
    "    print(dataset_path)\n",
    "    emoji_dataset = pd.read_csv(dataset_path)\n",
    "else: \n",
    "    if augmentation_bool == True: \n",
    "        dataset_path = f'./dataset_with_logits/{model_name}/prompt_aug_sentence_cls/stance/dataset_logits_{model_name}_prompt_aug_sentence_cls_stance_5039.csv'\n",
    "        print(dataset_path)\n",
    "        emoji_dataset = pd.read_csv(dataset_path)\n",
    "    else:\n",
    "        dataset_path = f'./dataset_with_logits/{model_name}/stance/dataset_logits_{model_name}_stance_5039.csv'\n",
    "        print(dataset_path)\n",
    "        emoji_dataset = pd.read_csv(dataset_path)\n",
    "\n",
    "\n",
    "emoji_dataset.info()"
   ]
  },
  {
   "cell_type": "code",
   "execution_count": 86,
   "id": "61c86a73-e67c-4851-b283-65d8a8fc6906",
   "metadata": {},
   "outputs": [
    {
     "name": "stdout",
     "output_type": "stream",
     "text": [
      "./dataset_with_logits/mistral-7b-instruct/prompt_aug_sentence_cls/emotion/dataset_logits_mistral-7b-instruct_prompt_aug_sentence_cls_emotion_2400.csv\n"
     ]
    }
   ],
   "source": [
    "# !ls ./condition_recommed_fewshot/dataset_logits_gemma2-9b-instruct_conditional_recommend_stance_5039.csv\n",
    "\n",
    "!ls ./dataset_with_logits/mistral-7b-instruct/prompt_aug_sentence_cls/emotion/dataset_logits_mistral-7b-instruct_prompt_aug_sentence_cls_emotion_2400.csv\n"
   ]
  },
  {
   "cell_type": "code",
   "execution_count": 88,
   "id": "eedd5a93-5ec9-4f9c-88c2-497f6f311a6a",
   "metadata": {},
   "outputs": [],
   "source": [
    "dataset_path = './condition_recommed_fewshot/dataset_logits_gemma2-9b-instruct_conditional_recommend_stance_5039.csv'\n",
    "dataset_path = './dataset_with_logits/mistral-7b-instruct/prompt_aug_sentence_cls/emotion/dataset_logits_mistral-7b-instruct_prompt_aug_sentence_cls_emotion_2400.csv'"
   ]
  },
  {
   "cell_type": "code",
   "execution_count": 89,
   "id": "6d9a77c2-4542-4e88-91e8-13227636342e",
   "metadata": {},
   "outputs": [
    {
     "name": "stdout",
     "output_type": "stream",
     "text": [
      "5039\n"
     ]
    }
   ],
   "source": [
    "emoji_dataset=pd.read_csv(dataset_path)\n",
    "\n",
    "dataset_len=len(emoji_dataset)\n",
    "print(dataset_len)"
   ]
  },
  {
   "cell_type": "code",
   "execution_count": 90,
   "id": "d7da5fdf-1368-4519-9b88-0e369369be1a",
   "metadata": {},
   "outputs": [
    {
     "name": "stdout",
     "output_type": "stream",
     "text": [
      "<class 'pandas.core.frame.DataFrame'>\n",
      "RangeIndex: 5039 entries, 0 to 5038\n",
      "Data columns (total 38 columns):\n",
      " #   Column                                           Non-Null Count  Dtype \n",
      "---  ------                                           --------------  ----- \n",
      " 0   Unnamed: 0.1                                     5039 non-null   int64 \n",
      " 1   Unnamed: 0                                       5039 non-null   int64 \n",
      " 2   index                                            5039 non-null   int64 \n",
      " 3   user_id                                          5039 non-null   object\n",
      " 4   emoji_sentence                                   5039 non-null   object\n",
      " 5   char_count                                       5039 non-null   int64 \n",
      " 6   cluster                                          5039 non-null   int64 \n",
      " 7   sentence                                         5039 non-null   object\n",
      " 8   gender_labels                                    5039 non-null   object\n",
      " 9   sentiment_labels                                 5039 non-null   object\n",
      " 10  emotion_labels                                   5039 non-null   object\n",
      " 11  age_labels                                       5039 non-null   object\n",
      " 12  stance_labels                                    5039 non-null   object\n",
      " 13  is_duplicate                                     5039 non-null   bool  \n",
      " 14  predicted_emojis                                 5039 non-null   object\n",
      " 15  predicted_sentence                               5039 non-null   object\n",
      " 16  gender_logits                                    5039 non-null   object\n",
      " 17  sentiment_logits                                 5039 non-null   object\n",
      " 18  emotion_logits                                   5039 non-null   object\n",
      " 19  age_logits                                       5039 non-null   object\n",
      " 20  stance_logits                                    5039 non-null   object\n",
      " 21  predicted_pure_emojis                            5032 non-null   object\n",
      " 22  predicted_pure_sentence                          5039 non-null   object\n",
      " 23  real_emojis                                      5026 non-null   object\n",
      " 24  gender_labels_using_sentence                     5039 non-null   object\n",
      " 25  sentiment_labels_using_sentence                  5039 non-null   object\n",
      " 26  emotion_labels_using_sentence                    5039 non-null   object\n",
      " 27  age_labels_using_sentence                        5039 non-null   object\n",
      " 28  stance_labels_using_sentence                     5039 non-null   object\n",
      " 29  predicted_emojis_prompt_aug_sentence_cls         5039 non-null   object\n",
      " 30  predicted_sentence_prompt_aug_sentence_cls       5039 non-null   object\n",
      " 31  predicted_pure_emojis_prompt_aug_sentence_cls    5033 non-null   object\n",
      " 32  predicted_pure_sentence_prompt_aug_sentence_cls  5039 non-null   object\n",
      " 33  gender_logits_prompt_aug_sentence_cls            5039 non-null   object\n",
      " 34  sentiment_logits_prompt_aug_sentence_cls         5039 non-null   object\n",
      " 35  emotion_logits_prompt_aug_sentence_cls           5039 non-null   object\n",
      " 36  age_logits_prompt_aug_sentence_cls               5039 non-null   object\n",
      " 37  stance_logits_prompt_aug_sentence_cls            5039 non-null   object\n",
      "dtypes: bool(1), int64(5), object(32)\n",
      "memory usage: 1.4+ MB\n"
     ]
    }
   ],
   "source": [
    "emoji_dataset.info()"
   ]
  },
  {
   "cell_type": "code",
   "execution_count": null,
   "id": "f53336c3-2018-4e16-9ccf-82315f3ef339",
   "metadata": {},
   "outputs": [],
   "source": []
  },
  {
   "cell_type": "code",
   "execution_count": null,
   "id": "b93ddba6-2ae6-4ca3-b217-1a42facba269",
   "metadata": {},
   "outputs": [],
   "source": []
  },
  {
   "cell_type": "code",
   "execution_count": 99,
   "id": "70acea63-4793-4347-a664-194555c22e3b",
   "metadata": {},
   "outputs": [],
   "source": [
    "# gender\n",
    "\n",
    "task_list = ['gender', 'sentiment', 'emotion', 'age', 'stance']\n",
    "\n",
    "category_dict = {\n",
    "    'gender': ['male', 'female'],\n",
    "    'sentiment': ['positive', 'negative', 'neutral'],\n",
    "    'emotion': ['happiness', 'sadness', 'fear', 'anger', 'surprise', 'disgust'],\n",
    "    'age': ['child', 'teen', 'adult', 'senior'],\n",
    "    'stance': ['favor', 'none', 'against']\n",
    "}\n",
    "\n",
    "\n"
   ]
  },
  {
   "cell_type": "code",
   "execution_count": 100,
   "id": "149a6eb2-c5e4-4967-be78-52389b7f8986",
   "metadata": {},
   "outputs": [
    {
     "name": "stdout",
     "output_type": "stream",
     "text": [
      "True\n",
      "prompt_aug_sentence_cls\n"
     ]
    }
   ],
   "source": [
    "\n",
    "augmentation_method = 'prompt_aug_sentence_cls'\n",
    "# augmentation_method = 'conditional_recommend'\n",
    "# augmentation_method = 'fewshot'\n",
    "augmentation_bool=True\n",
    "print(augmentation_bool)\n",
    "print(augmentation_method)"
   ]
  },
  {
   "cell_type": "code",
   "execution_count": 101,
   "id": "255faf2a-895f-47f0-a836-b9943cf7dda0",
   "metadata": {
    "scrolled": true
   },
   "outputs": [
    {
     "name": "stdout",
     "output_type": "stream",
     "text": [
      "the task is: gender\n",
      "{'male': 0.6706204379562044, 'female': 0.9097295398665262}\n",
      "Number of same elements in gender: 4060\n",
      "acc saved in ./acc_output/qwen2-72b-instruct/prompt_aug_sentence_cls/gender/acc_qwen2-72b-instruct_gender_prompt_aug_sentence_cls_5039.txt\n",
      "the task is: sentiment\n",
      "{'positive': 0.8565153733528551, 'negative': 0.891219512195122, 'neutral': 0.3648936170212766}\n",
      "Number of same elements in sentiment: 3925\n",
      "acc saved in ./acc_output/qwen2-72b-instruct/prompt_aug_sentence_cls/sentiment/acc_qwen2-72b-instruct_sentiment_prompt_aug_sentence_cls_5039.txt\n",
      "the task is: emotion\n",
      "{'happiness': 0.7743174061433447, 'sadness': 0.6741573033707865, 'fear': 0.5586206896551724, 'anger': 0.7710982658959538, 'surprise': 0.49070631970260226, 'disgust': 0.16393442622950818}\n",
      "Number of same elements in emotion: 3166\n",
      "acc saved in ./acc_output/qwen2-72b-instruct/prompt_aug_sentence_cls/emotion/acc_qwen2-72b-instruct_emotion_prompt_aug_sentence_cls_5039.txt\n",
      "the task is: age\n",
      "{'child': 0.7560503388189739, 'teen': 0.9023218574859888, 'adult': 0.759915014164306, 'senior': 0.21875}\n",
      "Number of same elements in age: 4129\n",
      "acc saved in ./acc_output/qwen2-72b-instruct/prompt_aug_sentence_cls/age/acc_qwen2-72b-instruct_age_prompt_aug_sentence_cls_5039.txt\n",
      "the task is: stance\n",
      "{'favor': 0.7625482625482626, 'none': 0.8782458165031737, 'against': 0.8739336492890996}\n",
      "Number of same elements in stance: 4361\n",
      "acc saved in ./acc_output/qwen2-72b-instruct/prompt_aug_sentence_cls/stance/acc_qwen2-72b-instruct_stance_prompt_aug_sentence_cls_5039.txt\n",
      "acc saved in ./acc_output/qwen2-72b-instruct/prompt_aug_sentence_cls/acc_qwen2-72b-instruct_prompt_aug_sentence_cls_5039.txt\n"
     ]
    }
   ],
   "source": [
    "\n",
    "acc_count_total=0\n",
    "\n",
    "for task in task_list: \n",
    "    print(f'the task is: {task}')\n",
    "    column_name_labels = f'{task}_labels'\n",
    "    if model_name =='sentence' or model_name == 'random_sentence': \n",
    "        column_name_logits = f'{task}_labels_using_{model_name}'\n",
    "    else: \n",
    "        if augmentation_bool == True: \n",
    "            column_name_logits = f'{task}_logits_{augmentation_method}'\n",
    "        else:\n",
    "            column_name_logits = f'{task}_logits'\n",
    "\n",
    "        \n",
    "    temp_category_list = category_dict[task]\n",
    "    acc_dict = {}\n",
    "    for category in temp_category_list: \n",
    "        df = emoji_dataset[emoji_dataset[column_name_labels] == category]\n",
    "        cnt_correct = (df[column_name_logits] == df[column_name_labels]).sum()\n",
    "        cnt_total = len(df)\n",
    "        accuracy = cnt_correct / cnt_total if cnt_total > 0 else 0\n",
    "\n",
    "        acc_dict[category] = float(accuracy)\n",
    "    print(acc_dict)\n",
    "\n",
    "    matches = emoji_dataset[column_name_labels] == emoji_dataset[column_name_logits]\n",
    "    # Count the number of True values in the boolean Series, which indicates matches\n",
    "    num_matches = matches.sum()\n",
    "    print(f\"Number of same elements in {task}: {num_matches}\")\n",
    "\n",
    "    acc_count_total+=int(num_matches)\n",
    "    acc_dict['overall']=int(num_matches)/dataset_len\n",
    "\n",
    "    if augmentation_bool==True:\n",
    "        folder_path = f'./acc_output/{model_name}/{augmentation_method}/{task}'\n",
    "        output_filename = f\"./acc_output/{model_name}/{augmentation_method}/{task}/acc_{model_name}_{task}_{augmentation_method}_{dataset_len}.txt\"\n",
    "    else: \n",
    "        folder_path = f\"./acc_output/{model_name}/{task}\"\n",
    "        output_filename = f\"./acc_output/{model_name}/{task}/acc_{model_name}_{task}_{dataset_len}.txt\"\n",
    "    os.makedirs(folder_path, exist_ok=True)\n",
    "\n",
    "    # # Save the results to a text file named after the model\n",
    "    # output_filename = f\"./acc_output/{model_name}/{task}/acc_{model_name}_{task}_{dataset_len}.txt\"\n",
    "    \n",
    "    with open(output_filename, \"w\") as f:\n",
    "        f.write(f\"Model: {model_name}\\n\")\n",
    "        f.write(f'augmentation_method: {augmentation_method}\\n')\n",
    "        f.write(f'Task: {task}\\n')\n",
    "        for key, value in acc_dict.items():\n",
    "            f.write(f'Accuracy for {key}: {value}\\n')\n",
    "    print(f\"acc saved in {output_filename}\")\n",
    "\n",
    "acc_avg=acc_count_total/(5*dataset_len)\n",
    "# # Save the results to a text file named after the model\n",
    "# output_filename = f\"./acc_output/{model_name}/acc_avg_{model_name}_{dataset_len}.txt\"\n",
    "\n",
    "if augmentation_bool==True:\n",
    "    output_filename = f\"./acc_output/{model_name}/{augmentation_method}/acc_{model_name}_{augmentation_method}_{dataset_len}.txt\"\n",
    "else: \n",
    "    output_filename = f\"./acc_output/{model_name}/acc_{model_name}_{dataset_len}.txt\"\n",
    "\n",
    "with open(output_filename, \"w\") as f:\n",
    "    f.write(f\"Model: {model_name}\\n\")\n",
    "    f.write(f'augmentation_method: {augmentation_method}\\n')\n",
    "    f.write(f'Accuracy Avg: {acc_avg}\\n')\n",
    "print(f\"acc saved in {output_filename}\")\n",
    "\n"
   ]
  },
  {
   "cell_type": "code",
   "execution_count": null,
   "id": "aaebf8bd-7728-4c96-97c9-1f58e26bd3e7",
   "metadata": {},
   "outputs": [],
   "source": []
  },
  {
   "cell_type": "code",
   "execution_count": null,
   "id": "4f24060f-dd5d-4e8b-9546-52cddceda099",
   "metadata": {},
   "outputs": [],
   "source": []
  },
  {
   "cell_type": "code",
   "execution_count": null,
   "id": "60dcc4d7-7000-4cd3-8888-e9d3dce36240",
   "metadata": {},
   "outputs": [],
   "source": []
  },
  {
   "cell_type": "code",
   "execution_count": null,
   "id": "c6957d82-cb2c-44e3-99d9-48bc9371b7c7",
   "metadata": {},
   "outputs": [],
   "source": []
  }
 ],
 "metadata": {
  "kernelspec": {
   "display_name": "Python 3 (ipykernel)",
   "language": "python",
   "name": "python3"
  },
  "language_info": {
   "codemirror_mode": {
    "name": "ipython",
    "version": 3
   },
   "file_extension": ".py",
   "mimetype": "text/x-python",
   "name": "python",
   "nbconvert_exporter": "python",
   "pygments_lexer": "ipython3",
   "version": "3.10.14"
  }
 },
 "nbformat": 4,
 "nbformat_minor": 5
}
