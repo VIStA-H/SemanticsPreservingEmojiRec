{
 "cells": [
  {
   "cell_type": "markdown",
   "id": "8fbf12c6-2649-4d04-b2c9-1632a73e8575",
   "metadata": {},
   "source": [
    "# human evaluation\n",
    "\n",
    "There is currently a small dataset containing over 200 samples. The predicted labels are compared with the true labels (the true labels are obtained from the judgment of the model GPT-4o-mini), and whether they match falls into six categories (ranging from 0 to 5).\n",
    "\n",
    "Humans compare the emoji sentence and the predicted sentence to determine whether they match, labeling them as either 0 or 1.\n",
    "\n",
    "Then, based on the match categories, the samples are divided into six groups. For each group, calculate the correlation between the model's predicted scores (0, 0.2, 0.4, 0.6, 0.8, 1) and the human scores (0 or 1)."
   ]
  },
  {
   "cell_type": "code",
   "execution_count": null,
   "id": "430147d5-9797-499d-a479-e5278b2442d4",
   "metadata": {},
   "outputs": [],
   "source": [
    "import pandas as pd\n",
    "import re\n",
    "\n",
    "import os\n",
    "from together import Together\n",
    "\n",
    "from openai import OpenAI\n",
    "import random\n",
    "from collections import Counter\n",
    "import time"
   ]
  },
  {
   "cell_type": "code",
   "execution_count": null,
   "id": "e807f20f-73bf-4830-a2c3-7143058c6beb",
   "metadata": {},
   "outputs": [],
   "source": [
    "!ls  ./human_eval/Human_label_data_Wei_labeled.csv"
   ]
  },
  {
   "cell_type": "code",
   "execution_count": null,
   "id": "8a45e584-b965-4960-a9b9-be56c6633024",
   "metadata": {},
   "outputs": [],
   "source": [
    "dataset_path = './human_eval/Human_label_data_Wei_labeled.csv'\n",
    "\n",
    "df_wei = pd.read_csv(dataset_path)"
   ]
  },
  {
   "cell_type": "code",
   "execution_count": null,
   "id": "1beec58e-620e-4c08-8edc-cf3002b717b2",
   "metadata": {},
   "outputs": [],
   "source": [
    "df_wei.info()"
   ]
  },
  {
   "cell_type": "code",
   "execution_count": null,
   "id": "b61a38a7-7f96-47ae-9b90-98fe67c7353d",
   "metadata": {},
   "outputs": [],
   "source": [
    "dataset_path = './human_eval/Human_label_data_Zhongyi_labeled.csv'\n",
    "\n",
    "df_zhong = pd.read_csv(dataset_path)"
   ]
  },
  {
   "cell_type": "code",
   "execution_count": null,
   "id": "01d9502b-1b6c-4657-bf8e-db8f7216b52d",
   "metadata": {},
   "outputs": [],
   "source": [
    "dataset_path = './human_eval/Human_label_data_Kangyi-labeled.csv'\n",
    "\n",
    "df_k = pd.read_csv(dataset_path)"
   ]
  },
  {
   "cell_type": "code",
   "execution_count": null,
   "id": "c9a5ac2e-0e2b-492e-bdf0-70c44b69f1a9",
   "metadata": {},
   "outputs": [],
   "source": [
    "df_zhong['Is semantic preserving? Y:1, N:0']"
   ]
  },
  {
   "cell_type": "code",
   "execution_count": null,
   "id": "24f9c1af-43d4-4db2-accd-1d31f576cd13",
   "metadata": {},
   "outputs": [],
   "source": [
    "df_wei = df_wei.drop(index=0).reset_index(drop=True)\n",
    "\n",
    "# 将第二行设为列名\n",
    "df_wei.columns = df_wei.iloc[0]"
   ]
  },
  {
   "cell_type": "code",
   "execution_count": null,
   "id": "3c329b45-616b-4764-8910-a1a5343c62ec",
   "metadata": {},
   "outputs": [],
   "source": [
    "dataset_path = './human_eval/Human_label_data_Bruce_labeled.csv'\n",
    "df_bruce = pd.read_csv(dataset_path)\n",
    "df_bruce.info()"
   ]
  },
  {
   "cell_type": "code",
   "execution_count": null,
   "id": "d23ccf37-d22e-4aac-aa87-294ce1b47da5",
   "metadata": {},
   "outputs": [],
   "source": [
    "dataset_path = './human_eval/human_label_data_answer.csv'\n",
    "\n",
    "df_origin = pd.read_csv(dataset_path)"
   ]
  },
  {
   "cell_type": "code",
   "execution_count": null,
   "id": "af549f91-c20b-44a6-9154-d86fb537f8a4",
   "metadata": {},
   "outputs": [],
   "source": [
    "df_origin.info()"
   ]
  },
  {
   "cell_type": "code",
   "execution_count": null,
   "id": "cf35fc0e-1e47-4287-99a4-cd2f99113fa5",
   "metadata": {},
   "outputs": [],
   "source": [
    "df_origin['wei_label']=df_wei['Is semantic preserving? Y:1, N:0']"
   ]
  },
  {
   "cell_type": "code",
   "execution_count": null,
   "id": "21bd7dcf-31d1-42ec-8128-b55efb85bc4e",
   "metadata": {},
   "outputs": [],
   "source": [
    "df_origin['zhongyi_label']=df_zhong['Is semantic preserving? Y:1, N:0']"
   ]
  },
  {
   "cell_type": "code",
   "execution_count": null,
   "id": "2d5f6834-aba8-48f6-a543-a631677953af",
   "metadata": {},
   "outputs": [],
   "source": [
    "df_origin['kangyi_label']=df_k['Is semantic preserving? Y:1, N:0']"
   ]
  },
  {
   "cell_type": "code",
   "execution_count": null,
   "id": "7951a49e-ff96-494f-a433-e7b8583fc54e",
   "metadata": {},
   "outputs": [],
   "source": [
    "df_origin['bruce_label']=df_bruce['Is semantic preserving? Y:1, N:0']"
   ]
  },
  {
   "cell_type": "code",
   "execution_count": null,
   "id": "4b7f85b1-becb-471f-bed2-5cf8a4a60283",
   "metadata": {},
   "outputs": [],
   "source": [
    "lst = df_origin['gpt-4o_eval'].tolist()\n",
    "df_s = set(lst)\n",
    "print(df_s)"
   ]
  },
  {
   "cell_type": "code",
   "execution_count": null,
   "id": "9a65bb3c-b183-4397-b83a-01f0a7100fd6",
   "metadata": {},
   "outputs": [],
   "source": [
    "# df_origin['gpt-4o_eval'] = df_origin['matching_pairs'] / 5\n",
    "\n",
    "df_origin['human_avg_label'] = df_origin[['wei_label', 'zhongyi_label', 'kangyi_label', 'bruce_label']].mean(axis=1)\n"
   ]
  },
  {
   "cell_type": "code",
   "execution_count": null,
   "id": "bd734c99-b8ba-4c01-ab1d-8549a749eadf",
   "metadata": {},
   "outputs": [],
   "source": [
    "df_origin.info()"
   ]
  },
  {
   "cell_type": "code",
   "execution_count": null,
   "id": "78712199-839c-4d65-a946-9b6445d4e4e8",
   "metadata": {},
   "outputs": [],
   "source": []
  },
  {
   "cell_type": "code",
   "execution_count": null,
   "id": "d92782be-c5ca-47e4-93af-41f0e0e9d5d0",
   "metadata": {},
   "outputs": [],
   "source": [
    "value=0.0\n",
    "df_0 = df_origin[df_origin['gpt-4o_eval'] == value]\n"
   ]
  },
  {
   "cell_type": "code",
   "execution_count": null,
   "id": "104a157c-3b87-4730-baa3-6ac2a547ff5d",
   "metadata": {},
   "outputs": [],
   "source": [
    "df_0['kangyi_label'].tolist()"
   ]
  },
  {
   "cell_type": "code",
   "execution_count": null,
   "id": "d2e3be46-fb45-49b6-b6a3-54f6335882b9",
   "metadata": {},
   "outputs": [],
   "source": [
    "value=0.2\n",
    "df_1 = df_origin[df_origin['gpt-4o_eval'] == value]\n",
    "df_1.info()"
   ]
  },
  {
   "cell_type": "code",
   "execution_count": null,
   "id": "ef119992-cc75-4d3e-8d78-fee2cff967a6",
   "metadata": {},
   "outputs": [],
   "source": [
    "df_1[['kangyi_label', 'emoji_sentence']].head(10)"
   ]
  },
  {
   "cell_type": "code",
   "execution_count": null,
   "id": "3eb5fdce-3aa6-486d-b726-4ccc92bc0056",
   "metadata": {},
   "outputs": [],
   "source": [
    "value=0.4\n",
    "df_2 = df_origin[df_origin['gpt-4o_eval'] == value]\n",
    "df_2.info()"
   ]
  },
  {
   "cell_type": "code",
   "execution_count": null,
   "id": "f5304359-424e-4445-844a-d08b3ff4c996",
   "metadata": {},
   "outputs": [],
   "source": [
    "value=0.6\n",
    "df_3 = df_origin[df_origin['gpt-4o_eval'] == value]\n",
    "df_3.info()"
   ]
  },
  {
   "cell_type": "code",
   "execution_count": null,
   "id": "43724f8d-cf78-4a3d-9a7a-900b25048dc4",
   "metadata": {},
   "outputs": [],
   "source": [
    "value=0.8\n",
    "df_4 = df_origin[df_origin['gpt-4o_eval'] == value]\n",
    "df_4.info()"
   ]
  },
  {
   "cell_type": "code",
   "execution_count": null,
   "id": "54e84566-a1b7-4dba-9e9a-603324d98e83",
   "metadata": {},
   "outputs": [],
   "source": [
    "value=1.0\n",
    "df_5 = df_origin[df_origin['gpt-4o_eval'] == value]\n",
    "df_5.info()"
   ]
  },
  {
   "cell_type": "code",
   "execution_count": null,
   "id": "10abe89d-6c4b-4662-8755-960fc94f8a3c",
   "metadata": {},
   "outputs": [],
   "source": [
    "avg_human_0 = df_0['human_avg_label'].mean()\n",
    "avg_human_1 = df_1['human_avg_label'].mean()\n",
    "avg_human_2 = df_2['human_avg_label'].mean()\n",
    "avg_human_3 = df_3['human_avg_label'].mean()\n",
    "avg_human_4 = df_4['human_avg_label'].mean()\n",
    "avg_human_5 = df_5['human_avg_label'].mean()\n"
   ]
  },
  {
   "cell_type": "code",
   "execution_count": null,
   "id": "3c158fa6-5025-49d5-949c-4e03f5d001cf",
   "metadata": {},
   "outputs": [],
   "source": [
    "print(avg_human_0)\n",
    "print(avg_human_1)\n",
    "print(avg_human_2)\n",
    "print(avg_human_3)\n",
    "print(avg_human_4)\n",
    "print(avg_human_5)\n"
   ]
  },
  {
   "cell_type": "code",
   "execution_count": null,
   "id": "764d511c-629e-4393-8387-0abf0d9881f2",
   "metadata": {},
   "outputs": [],
   "source": [
    "lst_0_human=df_0['human_avg_label'].tolist()\n",
    "print(len(lst_0_human))\n",
    "lst_0_model=df_0['gpt-4o_eval'].tolist()\n",
    "\n",
    "lst_1_human=df_1['human_avg_label'].tolist()\n",
    "print(len(lst_1_human))\n",
    "lst_1_model=df_1['gpt-4o_eval'].tolist()\n",
    "\n",
    "lst_2_human=df_2['human_avg_label'].tolist()\n",
    "print(len(lst_2_human))\n",
    "lst_2_model=df_2['gpt-4o_eval'].tolist()\n",
    "\n",
    "\n",
    "lst_3_human=df_3['human_avg_label'].tolist()\n",
    "print(len(lst_3_human))\n",
    "lst_3_model=df_3['gpt-4o_eval'].tolist()\n",
    "\n",
    "\n",
    "lst_4_human=df_4['human_avg_label'].tolist()\n",
    "print(len(lst_4_human))\n",
    "lst_4_model=df_4['gpt-4o_eval'].tolist()\n",
    "\n",
    "lst_5_human=df_5['human_avg_label'].tolist()\n",
    "print(len(lst_5_human))\n",
    "lst_5_model=df_5['gpt-4o_eval'].tolist()"
   ]
  },
  {
   "cell_type": "code",
   "execution_count": null,
   "id": "a12f1b01-d3b6-405a-9028-8dd0494ce484",
   "metadata": {},
   "outputs": [],
   "source": [
    "print(lst_0_human)\n",
    "print(lst_0_model)"
   ]
  },
  {
   "cell_type": "code",
   "execution_count": null,
   "id": "ae4cd21c-bf84-48e0-be95-66977c5ccc48",
   "metadata": {},
   "outputs": [],
   "source": [
    "import numpy as np\n",
    "\n",
    "correlation = np.corrcoef(lst_5_human, lst_5_model)[0, 1]\n",
    "\n",
    "print(f\"Pearson correlation between list1 and list2: {correlation}\")\n"
   ]
  },
  {
   "cell_type": "code",
   "execution_count": null,
   "id": "fc2424a6-a1cd-423b-9150-6869207992d4",
   "metadata": {},
   "outputs": [],
   "source": []
  }
 ],
 "metadata": {
  "kernelspec": {
   "display_name": "Python 3 (ipykernel)",
   "language": "python",
   "name": "python3"
  },
  "language_info": {
   "codemirror_mode": {
    "name": "ipython",
    "version": 3
   },
   "file_extension": ".py",
   "mimetype": "text/x-python",
   "name": "python",
   "nbconvert_exporter": "python",
   "pygments_lexer": "ipython3",
   "version": "3.10.14"
  }
 },
 "nbformat": 4,
 "nbformat_minor": 5
}
