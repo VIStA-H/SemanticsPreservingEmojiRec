{
 "cells": [
  {
   "cell_type": "markdown",
   "id": "80d195fc-a505-487a-8e2f-deea733c3b02",
   "metadata": {},
   "source": [
    "# dataset preprocess\n",
    "\n"
   ]
  },
  {
   "cell_type": "code",
   "execution_count": 3,
   "id": "c4dd3c34-904c-4e37-acfb-390940427245",
   "metadata": {},
   "outputs": [],
   "source": [
    "import pandas as pd\n",
    "import re\n",
    "\n",
    "import os\n",
    "from together import Together\n",
    "\n",
    "from openai import OpenAI\n",
    "import random\n",
    "from collections import Counter\n",
    "import time"
   ]
  },
  {
   "cell_type": "code",
   "execution_count": 2,
   "id": "bceedc12-5d8d-4d96-b903-a96b7bc7e967",
   "metadata": {},
   "outputs": [
    {
     "name": "stdout",
     "output_type": "stream",
     "text": [
      "balanced_benchmark_0828_5039.csv\n"
     ]
    }
   ],
   "source": [
    "!ls ./dataset"
   ]
  },
  {
   "cell_type": "code",
   "execution_count": null,
   "id": "851ca40b-fb48-4f16-bcbf-29f88c978c3a",
   "metadata": {},
   "outputs": [],
   "source": [
    "emoji_dataset = pd.read_csv('./dataset/balanced_benchmark_0828_5039.csv')\n"
   ]
  },
  {
   "cell_type": "code",
   "execution_count": null,
   "id": "a9757e86-ef65-4764-8600-3cfa3c95283c",
   "metadata": {},
   "outputs": [],
   "source": [
    "emoji_dataset.info()\n",
    "emoji_dataset.index"
   ]
  },
  {
   "cell_type": "code",
   "execution_count": null,
   "id": "4dec628c-8f0d-4971-b327-80da063a68d6",
   "metadata": {},
   "outputs": [],
   "source": [
    "len(emoji_dataset)"
   ]
  },
  {
   "cell_type": "code",
   "execution_count": null,
   "id": "b9a1333d-61ea-46cd-9b00-16881c78dba7",
   "metadata": {},
   "outputs": [],
   "source": []
  },
  {
   "cell_type": "code",
   "execution_count": null,
   "id": "130b1bf8-cd79-4d7d-87bf-53b6706671a9",
   "metadata": {},
   "outputs": [],
   "source": [
    "\n",
    "# Remove emoji from video_description column\n",
    "emoji_dataset['sentence'] = emoji_dataset['emoji_sentence'].apply(remove_emojis)"
   ]
  },
  {
   "cell_type": "markdown",
   "id": "dc519e16-0fa8-4fb8-8028-502d6975828c",
   "metadata": {},
   "source": [
    "## remove emojis to get 'sentence' column"
   ]
  },
  {
   "cell_type": "code",
   "execution_count": null,
   "id": "d8e737d1-34b7-4ecd-979c-905458a1da55",
   "metadata": {},
   "outputs": [],
   "source": [
    "def remove_emojis(text):\n",
    "    # Define a regular expression pattern for emojis and emoticons\n",
    "    emoji_pattern = re.compile(\"[\"\n",
    "                           u\"\\U0001F600-\\U0001F64F\"  # emoticons\n",
    "                           u\"\\U0001F300-\\U0001F5FF\"  # symbols & pictographs\n",
    "                           u\"\\U0001F680-\\U0001F6FF\"  # transport & map symbols\n",
    "                           u\"\\U0001F700-\\U0001F77F\"  # alchemical symbols\n",
    "                           u\"\\U0001F780-\\U0001F7FF\"  # Geometric Shapes Extended\n",
    "                           u\"\\U0001F800-\\U0001F8FF\"  # Supplemental Arrows-C\n",
    "                           u\"\\U0001F900-\\U0001F9FF\"  # Supplemental Symbols and Pictographs\n",
    "                           u\"\\U0001FA00-\\U0001FA6F\"  # Chess Symbols\n",
    "                           u\"\\U0001FA70-\\U0001FAFF\"  # Symbols and Pictographs Extended-A\n",
    "                           u\"\\U0001FB00-\\U0001FBFF\"  # Symbols for Legacy Computing\n",
    "                           u\"\\U0001F004\"             # Mahjong Tile Red Dragon\n",
    "                           u\"\\U0001F0CF\"             # Playing Cards Joker\n",
    "                           u\"\\U0001F170-\\U0001F251\"  # Enclosed Ideographic Supplement\n",
    "                           u\"\\U0001F300-\\U0001F320\"  # Miscellaneous Symbols and Pictographs\n",
    "                           u\"\\U0001F321-\\U0001F32C\"  # Enclosed CJK Letters and Months\n",
    "                           u\"\\U0001F1E0-\\U0001F1FF\"  # flags (iOS)\n",
    "                           u\"\\U00002500-\\U00002BEF\"  # chinese char\n",
    "                           u\"\\U00002702-\\U000027B0\"\n",
    "                           u\"\\U00002702-\\U000027B0\"\n",
    "                           u\"\\U000024C2-\\U0001F251\"\n",
    "                           u\"\\U0001f926-\\U0001f937\"\n",
    "                           u\"\\U00010000-\\U0010ffff\"\n",
    "                           u\"\\u200d\"\n",
    "                           u\"\\u2640-\\u2642\"\n",
    "                           u\"\\u2600-\\u2B55\"\n",
    "                           u\"\\u23cf\"\n",
    "                           u\"\\u23e9\"\n",
    "                           u\"\\u231a\"\n",
    "                           u\"\\u3030\"\n",
    "                           u\"\\ufe0f\"\n",
    "                           u\"]+\", flags=re.UNICODE)\n",
    "    # Remove emojis and emoticons from the text\n",
    "    clean_text = emoji_pattern.sub(r'', text)\n",
    "    return clean_text\n"
   ]
  },
  {
   "cell_type": "code",
   "execution_count": null,
   "id": "cdffacc4-8f24-40c9-8766-9ea7f3145b9b",
   "metadata": {},
   "outputs": [],
   "source": [
    "\n",
    "# Remove emoji from video_description column\n",
    "emoji_dataset['sentence'] = emoji_dataset['emoji_sentence'].apply(remove_emojis)"
   ]
  },
  {
   "cell_type": "code",
   "execution_count": null,
   "id": "93d44c8f-6afc-4ae7-a829-92e0e0fe7490",
   "metadata": {},
   "outputs": [],
   "source": []
  },
  {
   "cell_type": "code",
   "execution_count": null,
   "id": "12a7ae0d-da8f-4172-a0b0-7baea8dc1cd0",
   "metadata": {},
   "outputs": [],
   "source": []
  },
  {
   "cell_type": "markdown",
   "id": "c1fb2e86-0a77-4bf1-b433-7b4c49c29fc0",
   "metadata": {},
   "source": [
    "## extract emojis to get real_emojis column"
   ]
  },
  {
   "cell_type": "code",
   "execution_count": null,
   "id": "26bd39e4-cda2-4005-b72a-4887df8ed44a",
   "metadata": {},
   "outputs": [],
   "source": [
    "\n",
    "def extract_emojis(text):\n",
    "    if text is None or (isinstance(text, float) and math.isnan(text)):\n",
    "        return [] \n",
    "    emoji_pattern = re.compile(\n",
    "        \"[\"                              \n",
    "        u\"\\U0001F600-\\U0001F64F\"  # Emoticons\n",
    "        u\"\\U0001F300-\\U0001F5FF\"  # Symbols & pictographs\n",
    "        u\"\\U0001F680-\\U0001F6FF\"  # Transport & map symbols\n",
    "        u\"\\U0001F700-\\U0001F77F\"  # Alchemical symbols\n",
    "        u\"\\U0001F780-\\U0001F7FF\"  # Geometric Shapes Extended\n",
    "        u\"\\U0001F800-\\U0001F8FF\"  # Supplemental Arrows-C\n",
    "        u\"\\U0001F900-\\U0001F9FF\"  # Supplemental Symbols and Pictographs\n",
    "        u\"\\U0001FA00-\\U0001FA6F\"  # Chess Symbols\n",
    "        u\"\\U0001FA70-\\U0001FAFF\"  # Symbols and Pictographs Extended-A\n",
    "        u\"\\U0001FB00-\\U0001FBFF\"  # Symbols for Legacy Computing\n",
    "        u\"\\U0001F004\"             # Mahjong Tile Red Dragon\n",
    "        u\"\\U0001F0CF\"             # Playing Cards Joker\n",
    "        u\"\\U0001F1E6-\\U0001F1FF\"  # Flags\n",
    "        u\"\\U000025AA-\\U000025AB\"  # Small Squares\n",
    "        u\"\\U000025FE-\\U000025FF\"  # Black Medium Squares\n",
    "        u\"\\U00002600-\\U000026FF\"  # Miscellaneous Symbols\n",
    "        u\"\\U00002700-\\U000027BF\"  # Dingbats\n",
    "        u\"\\U00002B50\"             # Star\n",
    "        u\"\\U0001F1E6-\\U0001F1FF\"  # Regional indicator symbols\n",
    "        u\"\\u2640-\\u2642\"          # Gender signs\n",
    "        u\"\\u2600-\\u26FF\"          # Miscellaneous Symbols\n",
    "        u\"\\u2700-\\u27BF\"          # Dingbats\n",
    "        \"]+\", flags=re.UNICODE)\n",
    "\n",
    "    return emoji_pattern.findall(text)\n"
   ]
  },
  {
   "cell_type": "code",
   "execution_count": null,
   "id": "9f851265-5160-4935-986f-69036885da3c",
   "metadata": {},
   "outputs": [],
   "source": [
    "emojis_list=[]\n",
    "for i in range(dataset_len):\n",
    "    text=emoji_dataset.at[i,'emoji_sentence']\n",
    "    list_emojis = extract_emojis(text)\n",
    "    # print(i, list_emojis)\n",
    "    str_emojis=''.join(list_emojis)\n",
    "    print(i,str_emojis, len(str_emojis))\n",
    "    emojis_list.append(str_emojis)\n",
    "\n",
    "    emoji_dataset.at[i, 'real_emojis']=str_emojis\n",
    "    \n",
    "\n"
   ]
  },
  {
   "cell_type": "code",
   "execution_count": null,
   "id": "c057293a-ca04-4a20-80e2-59bc8006230a",
   "metadata": {},
   "outputs": [],
   "source": [
    "emoji_dataset.info()"
   ]
  },
  {
   "cell_type": "code",
   "execution_count": null,
   "id": "cbd66957-eaa0-4fdd-8be6-5384312ff8dd",
   "metadata": {},
   "outputs": [],
   "source": [
    "dataset_len=len(emoji_dataset)\n",
    "emoji_dataset.to_csv(f'./dataset/balanced_benchmark_{dataset_len}.csv', index=False)\n"
   ]
  },
  {
   "cell_type": "code",
   "execution_count": null,
   "id": "447f3ae9-fd71-4aeb-9a9b-75c9b9089bb8",
   "metadata": {},
   "outputs": [],
   "source": []
  },
  {
   "cell_type": "markdown",
   "id": "245da75a-9abb-4555-8634-1bb880ebb71c",
   "metadata": {},
   "source": [
    "## use judge model to get labels\n",
    "\n",
    "the judge model is gpt-4o-mini\n",
    "\n"
   ]
  },
  {
   "cell_type": "code",
   "execution_count": 1,
   "id": "ce7e6ec2-f6ef-45cd-84b0-6e33e528d579",
   "metadata": {},
   "outputs": [
    {
     "name": "stdout",
     "output_type": "stream",
     "text": [
      "balanced_benchmark_0828_5039.csv\n"
     ]
    }
   ],
   "source": [
    "!ls ./dataset"
   ]
  },
  {
   "cell_type": "code",
   "execution_count": 4,
   "id": "51a87e7c-716b-4e56-b14e-70be2ed944da",
   "metadata": {},
   "outputs": [],
   "source": [
    "dataset_path = './dataset/balanced_benchmark_0828_5039.csv'\n",
    "\n",
    "emoji_dataset = pd.read_csv(dataset_path)"
   ]
  },
  {
   "cell_type": "code",
   "execution_count": 5,
   "id": "0a202398-29f3-4f40-b7d8-161da0915757",
   "metadata": {},
   "outputs": [
    {
     "name": "stdout",
     "output_type": "stream",
     "text": [
      "5039\n"
     ]
    }
   ],
   "source": [
    "dataset_len=len(emoji_dataset)\n",
    "print(dataset_len)"
   ]
  },
  {
   "cell_type": "code",
   "execution_count": 6,
   "id": "2972965c-7b62-47f0-9510-d60721977235",
   "metadata": {},
   "outputs": [
    {
     "name": "stdout",
     "output_type": "stream",
     "text": [
      "<class 'pandas.core.frame.DataFrame'>\n",
      "RangeIndex: 5039 entries, 0 to 5038\n",
      "Data columns (total 14 columns):\n",
      " #   Column            Non-Null Count  Dtype \n",
      "---  ------            --------------  ----- \n",
      " 0   Unnamed: 0.1      5039 non-null   int64 \n",
      " 1   Unnamed: 0        5039 non-null   int64 \n",
      " 2   index             5039 non-null   int64 \n",
      " 3   user_id           5039 non-null   object\n",
      " 4   emoji_sentence    5039 non-null   object\n",
      " 5   char_count        5039 non-null   int64 \n",
      " 6   cluster           5039 non-null   int64 \n",
      " 7   sentence          5039 non-null   object\n",
      " 8   gender_labels     5039 non-null   object\n",
      " 9   sentiment_labels  5039 non-null   object\n",
      " 10  emotion_labels    5039 non-null   object\n",
      " 11  age_labels        5039 non-null   object\n",
      " 12  stance_labels     5039 non-null   object\n",
      " 13  is_duplicate      5039 non-null   bool  \n",
      "dtypes: bool(1), int64(5), object(8)\n",
      "memory usage: 516.8+ KB\n"
     ]
    }
   ],
   "source": [
    "emoji_dataset.info()"
   ]
  },
  {
   "cell_type": "code",
   "execution_count": null,
   "id": "b30f4b7e-ae5c-4abb-9d6f-ae910c554209",
   "metadata": {},
   "outputs": [],
   "source": []
  },
  {
   "cell_type": "code",
   "execution_count": null,
   "id": "7f4d4bec-802a-46cc-90f6-9b8051d2d8cf",
   "metadata": {},
   "outputs": [],
   "source": [
    "judge_model_name='gpt-4o-mini'\n",
    "dataset_len=len(emoji_dataset)\n"
   ]
  },
  {
   "cell_type": "code",
   "execution_count": null,
   "id": "94a37530-09ed-45eb-b956-0d5b0fc5ae8c",
   "metadata": {},
   "outputs": [],
   "source": [
    "print(judge_model_name)\n",
    "print(dataset_len)"
   ]
  },
  {
   "cell_type": "code",
   "execution_count": null,
   "id": "826e4578-feff-47c7-a94a-42556ea6b502",
   "metadata": {},
   "outputs": [],
   "source": [
    "\n",
    "\n",
    "api_key='' # input your openai api key here\n",
    "\n",
    "client = OpenAI(api_key=api_key)\n"
   ]
  },
  {
   "cell_type": "code",
   "execution_count": null,
   "id": "047e5169-94e1-45a2-838a-ce23edd2873d",
   "metadata": {},
   "outputs": [],
   "source": [
    "prompts = {\n",
    "    \"sentiment\": \"I will provide you a tweet. Please classify the sentiment of the tweet as positive, negative, or neutral. Please only output the answer without justification.\\nHere is the tweet:\\n{text}\\n\",\n",
    "    \"emotion\": \"I will provide you a tweet. Please classify the emotion of the tweet as sadness, happiness, fear, anger, surprise, or disgust. Please only output the answer without justification.\\nHere is the tweet:\\n{text}\\n\",\n",
    "    \"age\": \"I will provide you a tweet. Please classify the likely age group of the person who wrote the tweet as 'child', 'teen', 'adult', or 'senior'. Please only output the answer without justification.\\nHere is the tweet:\\n{text}\\n\",\n",
    "    \"gender\": \"I will provide you a tweet. Please classify the likely gender of the person who wrote the tweet as 'male' or 'female'. Please only output the answer without justification.\\nHere is the tweet:\\n{text}\\n\",\n",
    "    \"stance\": \"I will provide you a tweet. Please classify the stance of the tweet as 'favor', 'None', or 'against'. Please only output the answer without justification.\\nHere is the tweet:\\n{text}\\n\"\n",
    "}\n",
    "\n",
    "def judge_classifier(judge_model_name, task, text):\n",
    "    prompt = prompts[task].format(text=text)\n",
    "    \n",
    "    completion = client.chat.completions.create(\n",
    "        model=judge_model_name,\n",
    "        messages=[\n",
    "            {\n",
    "                \"role\": \"user\",\n",
    "                \"content\": prompt\n",
    "            },\n",
    "        ],\n",
    "    )\n",
    "    prediction = completion.choices[0].message.content.strip().lower()\n",
    "    return prediction"
   ]
  },
  {
   "cell_type": "code",
   "execution_count": null,
   "id": "074bf00f-f546-4141-909c-bdf51c039659",
   "metadata": {},
   "outputs": [],
   "source": [
    "print(dataset_len)\n",
    "\n",
    "task_list = ['gender', 'sentiment', 'emotion', 'age', 'stance']\n",
    "start_time = time.time()  # start time\n",
    "\n",
    "for task in task_list: \n",
    "    column_name = f'{task}_labels'\n",
    "    print(f'start the {task} labels classification, the column name is {column_name}:')\n",
    "    \n",
    "    # Define the folder path\n",
    "    folder_path = f\"./dataset_with_labels/{judge_model_name}/{task}\"\n",
    "    os.makedirs(folder_path, exist_ok=True)\n",
    "\n",
    "    logout_len = 200\n",
    "    left_bound = 0\n",
    "    \n",
    "    # if task =='emotion': left_bound=2000 # !!!\n",
    "    # else: left_bound=0\n",
    "    \n",
    "    for i in range(left_bound, dataset_len):\n",
    "        # if pd.isna(emoji_dataset.at[i, column_name]):\n",
    "        predicted_sentence = emoji_dataset['emoji_sentence'][i]\n",
    "        temp_labels = judge_classifier(judge_model_name, task, predicted_sentence)\n",
    "        print(i, predicted_sentence, '\\n', temp_labels)\n",
    "        \n",
    "        emoji_dataset.at[i, column_name] = temp_labels\n",
    "        \n",
    "        if (i+1) % logout_len == 0: time.sleep(5)\n",
    "            \n",
    "        if (i + 1) % logout_len == 0: \n",
    "            end_time = time.time()  # end time\n",
    "            elapsed_time = end_time - start_time \n",
    "            print(f\"the run time of {logout_len} iterations: {elapsed_time:.4f} seconds\")\n",
    "                        \n",
    "            output_labels_path = f\"./dataset_with_labels/{judge_model_name}/{task}/dataset_labels_{judge_model_name}_{task}_{i+1}.csv\"\n",
    "\n",
    "            emoji_dataset.to_csv(output_labels_path, index=False)\n",
    "            print(f\"saved successfully: {output_labels_path}\")\n",
    "\n",
    "            start_time = time.time()\n",
    "    output_labels_path = f\"./dataset_with_labels/{judge_model_name}/{task}/dataset_labels_{judge_model_name}_{task}_{i+1}.csv\"\n",
    "\n",
    "    emoji_dataset.to_csv(output_labels_path, index=False)\n",
    "    print(f\"saved successfully: {output_labels_path}\")\n",
    "    "
   ]
  },
  {
   "cell_type": "code",
   "execution_count": null,
   "id": "f655a279-906f-4b65-a7ca-bac454f6119f",
   "metadata": {},
   "outputs": [],
   "source": []
  },
  {
   "cell_type": "code",
   "execution_count": null,
   "id": "ef2e1019-258f-4264-8682-84beaff4c021",
   "metadata": {},
   "outputs": [],
   "source": []
  }
 ],
 "metadata": {
  "kernelspec": {
   "display_name": "Python 3 (ipykernel)",
   "language": "python",
   "name": "python3"
  },
  "language_info": {
   "codemirror_mode": {
    "name": "ipython",
    "version": 3
   },
   "file_extension": ".py",
   "mimetype": "text/x-python",
   "name": "python",
   "nbconvert_exporter": "python",
   "pygments_lexer": "ipython3",
   "version": "3.10.14"
  }
 },
 "nbformat": 4,
 "nbformat_minor": 5
}
